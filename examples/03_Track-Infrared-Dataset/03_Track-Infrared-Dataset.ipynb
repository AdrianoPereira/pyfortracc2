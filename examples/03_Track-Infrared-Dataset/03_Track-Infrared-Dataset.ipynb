{
 "cells": [
  {
   "cell_type": "markdown",
   "metadata": {},
   "source": [
    "<div align=\"center\"; span style=\"color:#336699\"><b><h2> Track Infra-Red Data </h2></b></div>\n",
    "<hr style=\"border:2px solid #0077b9;\">\n",
    "<br/>\n",
    "<div style=\"text-align: center;font-size: 90%;\">\n",
    "    Helvécio B. Leal Neto, <sup><a href=\"https://orcid.org/0000-0002-7526-2094\"><i class=\"fab fa-lg fa-orcid\" style=\"color: #a6ce39\"></i></a></sup>\n",
    "    Alan J. P. Calheiros<sup><a href=\"https://orcid.org/0000-0002-7526-2094\"><i class=\"fab fa-lg fa-orcid\" style=\"color: #a6ce39\"></i></a></sup>\n",
    "    <br/><br/>\n",
    "    National Institute for Space Research (INPE)\n",
    "    <br/>\n",
    "    Avenida dos Astronautas, 1758, Jardim da Granja, São José dos Campos, SP 12227-010, Brazil\n",
    "    <br/><br/>\n",
    "    Contact: <a href=\"mailto:helvecio.neto@inpe.br\">helvecio.neto@inpe.br</a>, <a href=\"mailto:alan.calheiros@inpe.br\">alan.calheiros@inpe.br</a>\n",
    "    <br/><br/>\n",
    "    Last Update: Nov 2, 2024\n",
    "</div>\n",
    "\n",
    "<br/>\n",
    "\n",
    "<div style=\"text-align: justify;  margin-left: 25%; margin-right: 25%;\">\n",
    "<b>Abstract.</b> This Jupyter Notebook shows how to use pyfortracc to track latest images from the GOES-16 satellite processed by the CPTEC/INPE.<br>\n",
    "The algorithm uses the brightness temperature data from the ABI sensor to identify and track precipitating systems over the south America region.<br>\n",
    "The output data is a tracking table containing the system's lifecyle.\n",
    "</div>    \n",
    "<br/>\n",
    "<div style=\"text-align: justify;  margin-left: 15%; margin-right: 15%;font-size: 75%; border-style: solid; border-color: #0077b9; border-width: 1px; padding: 5px;\">\n",
    "    <b>In this example, we will use fortracc to compute track of precipitating systems over the globe and explore the output data after the algorithm workflow.\n",
    "</b>\n",
    "    <div style=\"margin-left: 10px; margin-right: 10px; margin-top:10px\">\n",
    "      <p> Leal Neto, H.B.; Calheiros, A.J.P.;  fortracc Algorithm. São José dos Campos, INPE, 2024. <a href=\"https://github.com/fortracc-project/\" target=\"_blank\"> Online </a>. </p>\n",
    "    </div>\n",
    "</div>"
   ]
  },
  {
   "cell_type": "markdown",
   "metadata": {},
   "source": [
    "### Schedule\n",
    "\n",
    "### Schedule\n",
    " [1. Installation](#install)<br>\n",
    " [2. Input Data](#input)<br>\n",
    " [3. Read Function](#data)<br>\n",
    " [4. Parameters (Name_list)](#namelist)<br>\n",
    " [5. Tracking Routine](#track)<br>\n",
    " [6. Tracking Visualization](#visualization)<br>"
   ]
  },
  {
   "cell_type": "markdown",
   "metadata": {},
   "source": [
    "<a id='install'></a>\n",
    "#### 1. Installation\n",
    "\n",
    "Installing the pyFortraCC package can be done using the pip install command. \n",
    "\n",
    "All dependencies will be installed in the current Python environment and the code will be ready to use."
   ]
  },
  {
   "cell_type": "code",
   "execution_count": null,
   "metadata": {},
   "outputs": [],
   "source": [
    "# Install directly from github\n",
    "!pip3 install --upgrade git+https://github.com/fortracc/pyfortracc.git@main#egg=pyfortracc &> /dev/null"
   ]
  },
  {
   "cell_type": "markdown",
   "metadata": {},
   "source": [
    "<a id='data'></a>\n",
    "#### 2. Data Input (Download Files)\n",
    "\n",
    "The get_cptec script downloads the latest processed infrared images from the GOES-16 satellite, provided by CPTEC/INPE (National Institute for Space Research). These images, available for download at this [link](http://ftp.cptec.inpe.br/goes/goes16/retangular/), are from Channel 13, representing infrared data that have been reprojected onto a rectangular grid over South America"
   ]
  },
  {
   "cell_type": "code",
   "execution_count": null,
   "metadata": {},
   "outputs": [],
   "source": [
    "# Install regex package to use with the script\n",
    "!pip3 install regex &> /dev/null\n",
    "\n",
    "# Download script\n",
    "!wget https://raw.githubusercontent.com/fortracc/pyfortracc/refs/heads/main/examples/03_Track-Infrared-Dataset/get_cptec.py &> /dev/null\n",
    "\n",
    "# Download the script\n",
    "n_images = 5\n",
    "channel = 'ch13'\n",
    "path = 'input/'\n",
    "\n",
    "# Run the script\n",
    "!python get_cptec.py --n $n_images --c $channel --p $path"
   ]
  },
  {
   "cell_type": "markdown",
   "metadata": {},
   "source": [
    "<a id='namelist'></a>\n",
    "#### 3. Read Function\n",
    "\n",
    "The `read_function` function reads the data from the NetCDF file and returns a numpy array with the data.<br>\n",
    "We select Band 1 of netCDF file, which corresponds to the infrared channel of the GOES-16 satellite. And divide the data by 100 to convert it to the temperature in Kelvin."
   ]
  },
  {
   "cell_type": "code",
   "execution_count": 126,
   "metadata": {},
   "outputs": [],
   "source": [
    "# Brazil bounding box\n",
    "global lon_min, lon_max, lat_min, lat_max\n",
    "\n",
    "lon_min = -75\n",
    "lon_max = -34\n",
    "lat_min = -34\n",
    "lat_max = 6"
   ]
  },
  {
   "cell_type": "code",
   "execution_count": 127,
   "metadata": {},
   "outputs": [],
   "source": [
    "# The function below reads the data from the downloaded files\n",
    "import xarray as xr\n",
    "def read_function(path):\n",
    "\tds=xr.open_dataset(path)\n",
    "\t# crop the image to the region of interest, comment the line below to use the full image\n",
    "\tds=ds.sel(lon=slice(lon_min,lon_max),lat=slice(lat_min,lat_max))\n",
    "\treturn ds['Band1'].data / 100"
   ]
  },
  {
   "cell_type": "markdown",
   "metadata": {},
   "source": [
    "<a id='namelist'></a>\n",
    "#### 4. Parameters: Name_list\n",
    "\n",
    "The `name_list` function creates a list of the files in the directory. The function receives the path to the directory as input and returns a list of the files in the directory.<br>\n",
    "We Track the Convective Systems by threshold of 235 K and minimum area of 1000 km²."
   ]
  },
  {
   "cell_type": "code",
   "execution_count": 128,
   "metadata": {},
   "outputs": [],
   "source": [
    "name_list = {} # Set name_list dict\n",
    "name_list['input_path'] = 'input/'\n",
    "name_list['output_path'] = 'output/'\n",
    "name_list['thresholds'] = [235, 210]\n",
    "name_list['min_cluster_size'] = [300, 250]\n",
    "name_list['operator'] = '<='\n",
    "name_list['timestamp_pattern'] = 'S10635346_%Y%m%d%H%M.nc'\n",
    "name_list['delta_time'] = 10\n",
    "name_list['cluster_method'] = 'ndimage'\n",
    "name_list['lon_min'] = lon_min\n",
    "name_list['lon_max'] = lon_max\n",
    "name_list['lat_min'] = lat_min\n",
    "name_list['lat_max'] = lat_max\n",
    "\n",
    "# Add correction methods\n",
    "name_list['spl_correction'] = True # It is used to perform the correction at Splitting events\n",
    "name_list['mrg_correction'] = True # It is used to perform the correction at Merging events\n",
    "name_list['inc_correction'] = True # It is used to perform the correction using Inner Core vectors\n",
    "name_list['opt_correction'] = True # It is used to perform the correction using the Optical Flow method\n",
    "name_list['elp_correction'] = True # It is used to perform the correction using the Ellipse method\n",
    "name_list['validation'] = True # It is used to perform the validation of the correction methods"
   ]
  },
  {
   "cell_type": "markdown",
   "metadata": {},
   "source": [
    "<a id='track'></a>\n",
    "#### 5. Track Routine\n",
    "\n",
    "The `track` function receives the data as input and use name_list to track the convective systems."
   ]
  },
  {
   "cell_type": "code",
   "execution_count": 130,
   "metadata": {},
   "outputs": [],
   "source": [
    "# Import the library\n",
    "import pyfortracc"
   ]
  },
  {
   "cell_type": "code",
   "execution_count": null,
   "metadata": {},
   "outputs": [],
   "source": [
    "# Track the clusters\n",
    "pyfortracc.track(name_list, read_function, parallel=True)"
   ]
  },
  {
   "cell_type": "markdown",
   "metadata": {},
   "source": [
    "<a id='visualize'></a>\n",
    "#### 6. Visualize the Track Output\n",
    "\n",
    "The `plot` function receives the data and the track as input and plots the data and the track on the same map.<br>\n",
    "We need set the dimensions of the plot, the projection, and the extent of the plot."
   ]
  },
  {
   "cell_type": "code",
   "execution_count": 132,
   "metadata": {},
   "outputs": [],
   "source": [
    "import glob\n",
    "import pandas as pd\n",
    "import numpy as np\n",
    "\n",
    "files = glob.glob('input/*')\n",
    "timestamps = [pd.to_datetime(file.split('_')[-1].split('.')[0], format='%Y%m%d%H%M') for file in files]\n",
    "timestamps = [str(ts) for ts in sorted(timestamps)]"
   ]
  },
  {
   "cell_type": "code",
   "execution_count": null,
   "metadata": {},
   "outputs": [],
   "source": [
    "# Plot the tracking data for periods of time. Note: If the min and max value is a larger time interval, \n",
    "# the plot will be slower\n",
    "pyfortracc.plot_animation(read_function=read_function, # Read function\n",
    "                          figsize=(8,8), # Figure size\n",
    "                          name_list=name_list, # Name list dictionary\n",
    "                          start_timestamp = timestamps[0], # Start timestamp\n",
    "                          end_timestamp= timestamps[-1], # End timestamp\n",
    "                          info_col_name=False,\n",
    "                          cbar_title='Temperature(k)', # Colorbar title\n",
    "                          trajectory=True, # Plot the trajectory\n",
    "                          smooth_trajectory=True, # Smooth the trajectory\n",
    "                          cmap='turbo', # Colormap\n",
    "                          min_val=200, # Min value\n",
    "                          max_val=235, # Max value\n",
    "                          nan_value=235, # NaN value\n",
    "                          nan_operation=np.greater_equal, # NaN operation\n",
    "                          bound_color='blue', # Bound color\n",
    "                          info_cols=['uid','method']\n",
    "                          )"
   ]
  },
  {
   "cell_type": "code",
   "execution_count": null,
   "metadata": {},
   "outputs": [],
   "source": [
    "# Plot the tracking data for a specific region (Sao Paulo state)\n",
    "sp_lat_min = -25\n",
    "sp_lat_max = -20\n",
    "sp_lon_min = -53\n",
    "sp_lon_max = -45\n",
    "zoom_region = [sp_lon_min, sp_lon_max, sp_lat_min, sp_lat_max]\n",
    "\n",
    "pyfortracc.plot_animation(read_function=read_function, # Read function\n",
    "                          figsize=(8,8), # Figure size\n",
    "                          name_list=name_list, # Name list dictionary\n",
    "                          start_timestamp = timestamps[0], # Start timestamp\n",
    "                          end_timestamp= timestamps[-1], # End timestamp\n",
    "                          info_cols=['uid','status','lifetime'],\n",
    "                          cbar_title='Temperature(k)', # Colorbar title\n",
    "                          trajectory=True, # Plot the trajectory\n",
    "                          smooth_trajectory=True, # Smooth the trajectory\n",
    "                          cmap='turbo', # Colormap\n",
    "                          min_val=200, # Min value\n",
    "                          max_val=235, # Max value\n",
    "                          nan_value=235, # NaN value\n",
    "                          nan_operation=np.greater_equal, # NaN operation\n",
    "                          zoom_region=zoom_region, # Zoom region\n",
    "                          bound_color='blue', # Bound color\n",
    "                          )"
   ]
  },
  {
   "cell_type": "markdown",
   "metadata": {},
   "source": [
    "### 7. Convert the parquets files to a tracking family like fortracc file and csv"
   ]
  },
  {
   "cell_type": "code",
   "execution_count": 28,
   "metadata": {},
   "outputs": [],
   "source": [
    "from pyfortracc.post_processing import convert_parquet_to_family\n",
    "convert_parquet_to_family(name_list)"
   ]
  }
 ],
 "metadata": {
  "kernelspec": {
   "display_name": "pyfortracc",
   "language": "python",
   "name": "python3"
  },
  "language_info": {
   "codemirror_mode": {
    "name": "ipython",
    "version": 3
   },
   "file_extension": ".py",
   "mimetype": "text/x-python",
   "name": "python",
   "nbconvert_exporter": "python",
   "pygments_lexer": "ipython3",
   "version": "3.12.2"
  }
 },
 "nbformat": 4,
 "nbformat_minor": 2
}
