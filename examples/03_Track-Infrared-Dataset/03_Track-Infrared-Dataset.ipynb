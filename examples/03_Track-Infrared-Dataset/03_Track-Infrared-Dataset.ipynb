{
 "cells": [
  {
   "cell_type": "markdown",
   "metadata": {},
   "source": [
    "<div align=\"center\"; span style=\"color:#336699\"><b><h2> Track Infra-Red Data </h2></b></div>\n",
    "<hr style=\"border:2px solid #0077b9;\">\n",
    "<br/>\n",
    "<div style=\"text-align: center;font-size: 90%;\">\n",
    "    Helvécio B. Leal Neto, <sup><a href=\"https://orcid.org/0000-0002-7526-2094\"><i class=\"fab fa-lg fa-orcid\" style=\"color: #a6ce39\"></i></a></sup>\n",
    "    Alan J. P. Calheiros<sup><a href=\"https://orcid.org/0000-0002-7526-2094\"><i class=\"fab fa-lg fa-orcid\" style=\"color: #a6ce39\"></i></a></sup>\n",
    "    <br/><br/>\n",
    "    National Institute for Space Research (INPE)\n",
    "    <br/>\n",
    "    Avenida dos Astronautas, 1758, Jardim da Granja, São José dos Campos, SP 12227-010, Brazil\n",
    "    <br/><br/>\n",
    "    Contact: <a href=\"mailto:helvecio.neto@inpe.br\">helvecio.neto@inpe.br</a>, <a href=\"mailto:alan.calheiros@inpe.br\">alan.calheiros@inpe.br</a>\n",
    "    <br/><br/>\n",
    "    Last Update: Abr 15, 2024\n",
    "</div>\n",
    "\n",
    "<br/>\n",
    "\n",
    "<div style=\"text-align: justify;  margin-left: 25%; margin-right: 25%;\">\n",
    "<b>Abstract.</b> This Jupyter Notebook shows how to use a fortracc.\n",
    "</div>    \n",
    "<br/>\n",
    "<div style=\"text-align: justify;  margin-left: 15%; margin-right: 15%;font-size: 75%; border-style: solid; border-color: #0077b9; border-width: 1px; padding: 5px;\">\n",
    "    <b>In this example, we will use fortracc to compute track of precipitating systems over the globe and explore the output data after the algorithm workflow.\n",
    "</b>\n",
    "    <div style=\"margin-left: 10px; margin-right: 10px; margin-top:10px\">\n",
    "      <p> Leal Neto, H.B.; Calheiros, A.J.P.;  fortracc Algorithm. São José dos Campos, INPE, 2024. <a href=\"https://github.com/fortracc-project/\" target=\"_blank\"> Online </a>. </p>\n",
    "    </div>\n",
    "</div>"
   ]
  },
  {
   "cell_type": "markdown",
   "metadata": {},
   "source": [
    "### Schedule\n",
    "[1. Download Data](#download)<br>\n",
    "[2. Setting Environment](#environment)<br>\n",
    "[3. Read Functions](#functions)<br>\n",
    "[4. Parameters: Name_list](#namelist)<br>\n",
    "[5. Track](#track)<br>\n",
    "[6. Output](#output)<br>\n"
   ]
  },
  {
   "cell_type": "markdown",
   "metadata": {},
   "source": [
    "<a id='data'></a>\n",
    "#### 1. Download the data\n",
    "\n",
    "The GOES-16 satellite data from Channel 13, processed by INPE (National Institute for Space Research), are available for download at this [link](http://ftp.cptec.inpe.br/goes/goes16/retangular/)<br>\n",
    "These data represent infrared channel information and have been reprojected onto a rectangular grid over South America. <br>\n",
    "This reprocessing ensures that the data are more accessible and useful for various applications, including weather forecasting, environmental monitoring, and climate studies."
   ]
  },
  {
   "cell_type": "markdown",
   "metadata": {},
   "source": [
    "The script below downloads the data from the INPE server and saves it to the local directory.<br>\n",
    "The data are available in NetCDF format, and the script uses the `wget` command to download the files from the INPE public ftp server.\n"
   ]
  },
  {
   "cell_type": "code",
   "execution_count": 1,
   "metadata": {},
   "outputs": [],
   "source": [
    "# import os\n",
    "# import re\n",
    "# import subprocess\n",
    "# from concurrent.futures import ThreadPoolExecutor\n",
    "\n",
    "# def list_files(url):\n",
    "#     result = subprocess.run(['wget','--no-check-certificate','-q','-O','-', url],\n",
    "#         capture_output=True,\n",
    "#         text=True)\n",
    "#     nc_files = re.findall(r'href=\"([^\"]*\\.nc)\"', result.stdout)\n",
    "#     return sorted(nc_files)\n",
    "# def download_file(url, folder):\n",
    "#     if not os.path.exists(folder):\n",
    "#         os.makedirs(folder)\n",
    "#     filename = url.split('/')[-1]\n",
    "#     file_path = os.path.join(folder, filename)\n",
    "#     subprocess.run(['wget','--no-check-certificate','-q', '-O', file_path, url])\n",
    "# def download_all_nc_files(base_url, nc_files, folder='input'):\n",
    "#     with ThreadPoolExecutor() as executor:\n",
    "#         urls = [base_url + file for file in nc_files]\n",
    "#         executor.map(download_file, urls, [folder] * len(urls))\n",
    "#     print('Downloaded all files')\n",
    "\n",
    "# # Set the year and month\n",
    "# year = 2021\n",
    "# month = 6\n",
    "\n",
    "# url = 'https://ftp.cptec.inpe.br/goes/goes16/retangular/ch13/' + str(year) + '/' + str(month).zfill(2) + '/'\n",
    "# nc_files = list_files(url)[0:10]\n",
    "# download_all_nc_files(url, nc_files)"
   ]
  },
  {
   "cell_type": "markdown",
   "metadata": {},
   "source": [
    "<a id='environment'></a>\n",
    "#### 2. Setting the environment\n",
    "\n",
    "Install package to environment and import the package."
   ]
  },
  {
   "cell_type": "code",
   "execution_count": 2,
   "metadata": {},
   "outputs": [],
   "source": [
    "# Run this cell to install the latest version of pyfortracc from the main branch\n",
    "# !pip install --upgrade git+https://github.com/fortracc-project/pyfortracc.git@main#egg=pyfortracc\n",
    "# Or import the local version of pyfortracc\n",
    "%reload_ext autoreload\n",
    "%autoreload 2\n",
    "import sys\n",
    "sys.path.append('../../')"
   ]
  },
  {
   "cell_type": "code",
   "execution_count": 3,
   "metadata": {},
   "outputs": [],
   "source": [
    "# Import the pyfortracc module\n",
    "import pyfortracc"
   ]
  },
  {
   "cell_type": "markdown",
   "metadata": {},
   "source": [
    "<a id='namelist'></a>\n",
    "#### 3. Read Function\n",
    "\n",
    "The `read_function` function reads the data from the NetCDF file and returns a numpy array with the data.<br>\n",
    "We select Band 1 of netCDF file, which corresponds to the infrared channel of the GOES-16 satellite. And divide the data by 100 to convert it to the temperature in Kelvin."
   ]
  },
  {
   "cell_type": "code",
   "execution_count": 4,
   "metadata": {},
   "outputs": [],
   "source": [
    "# Import the netCDF4 library and define the read_function passing path as parameter\n",
    "import xarray as xr\n",
    "def read_function(path):\n",
    "\tds=xr.open_dataset(path)\n",
    "\t# please check the name of the variable related to latitude and longitude\n",
    "\t# print all variable names:\n",
    "\t# crop the image to the region of interest, comment the line below to use the full image\n",
    "\tds=ds.sel(lon=slice(-75,-41),lat=slice(-12,8))\n",
    "\treturn ds['Band1'].data / 100"
   ]
  },
  {
   "cell_type": "markdown",
   "metadata": {},
   "source": [
    "<a id='namelist'></a>\n",
    "#### 4. Parameters: Name_list\n",
    "\n",
    "The `name_list` function creates a list of the files in the directory. The function receives the path to the directory as input and returns a list of the files in the directory.<br>\n",
    "We Track the Convective Systems by threshold of 235 K and minimum area of 1000 km²."
   ]
  },
  {
   "cell_type": "code",
   "execution_count": 5,
   "metadata": {},
   "outputs": [],
   "source": [
    "name_list = {} # Set name_list dict\n",
    "name_list['input_path'] = 'input/'\n",
    "name_list['output_path'] = 'output/'\n",
    "name_list['thresholds'] = [235]\n",
    "name_list['min_cluster_size'] = [300]\n",
    "name_list['operator'] = '<='\n",
    "name_list['timestamp_pattern'] = 'S10635346_%Y%m%d%H%M.nc'\n",
    "name_list['delta_time'] = 10\n",
    "name_list['cluster_method'] = 'ndimage'\n",
    "name_list['min_overlap'] = 25"
   ]
  },
  {
   "cell_type": "markdown",
   "metadata": {},
   "source": [
    "<a id='track'></a>\n",
    "#### 5. Track Infra-Red Data\n",
    "\n",
    "The `track` function receives the data as input and use name_list to track the convective systems."
   ]
  },
  {
   "cell_type": "code",
   "execution_count": null,
   "metadata": {},
   "outputs": [],
   "source": [
    "# Track the clusters\n",
    "pyfortracc.track(name_list, read_function, parallel=False)"
   ]
  },
  {
   "cell_type": "markdown",
   "metadata": {},
   "source": [
    "<a id='visualize'></a>\n",
    "#### 6. Visualize the Track Output\n",
    "\n",
    "The `plot` function receives the data and the track as input and plots the data and the track on the same map.<br>\n",
    "We need set the dimensions of the plot, the projection, and the extent of the plot."
   ]
  },
  {
   "cell_type": "code",
   "execution_count": null,
   "metadata": {},
   "outputs": [],
   "source": [
    "# For better visualization, the values greater than 235 are set to NaN\n",
    "import numpy as np\n",
    "def plot_function(path):\n",
    "\tds=xr.open_dataset(path)\n",
    "\t# please check the name of the variable related to latitude and longitude\n",
    "\t# print all variable names:\n",
    "\t# crop the image to the region of interest, comment the line below to use the full image\n",
    "\tds=ds.sel(lon=slice(-75,-41),lat=slice(-12,8))\n",
    "\tdata = ds.copy()\n",
    "\tdata = data['Band1'].data / 100\n",
    "    # Set the values greater than 235 to NaN\n",
    "\tdata = np.where(data > 235, np.nan, data)\n",
    "\treturn data\n",
    "\n",
    "def dim_function(path):\n",
    "\tds=xr.open_dataset(path)\n",
    "\t# please check the name of the variable related to latitude and longitude\n",
    "\t# print all variable names:\n",
    "\t# crop the image to the region of interest, comment the line below to use the full image\n",
    "\tds=ds.sel(lon=slice(-75,-41),lat=slice(-12,8))\n",
    "\tdata = ds.copy()\n",
    "\tdata = data['Band1'].data / 100\n",
    "    # Set the values greater than 235 to NaN\n",
    "\tdata = np.where(data > 235, np.nan, data)\n",
    "\t#retunr the value of the dimensions, lon_min, lon_max, lat_min, lat_max:\n",
    "\treturn [data.shape[0], data.shape[1],ds.lon.min().values,ds.lon.max().values,ds.lat.min().values,ds.lat.max().values]\n",
    "\n",
    "dims = dim_function('input/S10635346_202202010000.nc')\n",
    "print(dims[0], dims[1], dims[2], dims[3], dims[4], dims[5])\n",
    "# Set the name_list dict for plotting\n",
    "name_list['x_dim'] = dims[1]\n",
    "name_list['y_dim'] = dims[0]\n",
    "name_list['lon_min'] = dims[2]\n",
    "name_list['lon_max'] = dims[3]\n",
    "name_list['lat_min'] = dims[4]\n",
    "name_list['lat_max'] = dims[5]\n"
   ]
  },
  {
   "cell_type": "code",
   "execution_count": null,
   "metadata": {},
   "outputs": [],
   "source": [
    "# Plot the clusters\n",
    "pyfortracc.plot(name_list, plot_function, '2022-02-01 00:00:00', cmap='turbo', cbar_title='Temperature(k)', bound_color='blue')"
   ]
  },
  {
   "cell_type": "code",
   "execution_count": null,
   "metadata": {},
   "outputs": [],
   "source": [
    "# Zoom in the region\n",
    "pyfortracc.plot_animation(name_list, plot_function,\n",
    "                          figsize=(10,5),\n",
    "                          cmap='turbo',\n",
    "                          start_stamp = '2022-02-01 00:00:00',\n",
    "                          end_stamp = '2022-02-01 01:30:00',\n",
    "                          uid_list=[],\n",
    "                          info=True,\n",
    "                          info_cols=['uid','status'],\n",
    "                          vector=True, vector_scale=60\n",
    "          )"
   ]
  },
  {
   "cell_type": "markdown",
   "metadata": {},
   "source": [
    "### 7. Convert the parquets files to a tracking family like fortracc file and csv"
   ]
  },
  {
   "cell_type": "code",
   "execution_count": 28,
   "metadata": {},
   "outputs": [],
   "source": [
    "from pyfortracc.post_processing import convert_parquet_to_family, convert_parquet_to_csv\n",
    "convert_parquet_to_family(name_list)"
   ]
  },
  {
   "cell_type": "markdown",
   "metadata": {},
   "source": []
  }
 ],
 "metadata": {
  "kernelspec": {
   "display_name": "hydrotrack",
   "language": "python",
   "name": "python3"
  },
  "language_info": {
   "codemirror_mode": {
    "name": "ipython",
    "version": 3
   },
   "file_extension": ".py",
   "mimetype": "text/x-python",
   "name": "python",
   "nbconvert_exporter": "python",
   "pygments_lexer": "ipython3",
   "version": "3.12.2"
  }
 },
 "nbformat": 4,
 "nbformat_minor": 2
}
