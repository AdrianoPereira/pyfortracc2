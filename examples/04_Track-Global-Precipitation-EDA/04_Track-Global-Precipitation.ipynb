{
 "cells": [
  {
   "cell_type": "markdown",
   "metadata": {},
   "source": [
    "<div align=\"center\"; span style=\"color:#336699\"><b><h2> Track Global Precipitation JAXA GSMAP </h2></b></div>\n",
    "<hr style=\"border:2px solid #0077b9;\">\n",
    "<br/>\n",
    "<div style=\"text-align: center;font-size: 90%;\">\n",
    "    Helvécio B. Leal Neto, <sup><a href=\"https://orcid.org/0000-0002-7526-2094\"><i class=\"fab fa-lg fa-orcid\" style=\"color: #a6ce39\"></i></a></sup>\n",
    "    Alan J. P. Calheiros<sup><a href=\"https://orcid.org/0000-0002-7526-2094\"><i class=\"fab fa-lg fa-orcid\" style=\"color: #a6ce39\"></i></a></sup>\n",
    "    <br/><br/>\n",
    "    National Institute for Space Research (INPE)\n",
    "    <br/>\n",
    "    Avenida dos Astronautas, 1758, Jardim da Granja, São José dos Campos, SP 12227-010, Brazil\n",
    "    <br/><br/>\n",
    "    Contact: <a href=\"mailto:helvecio.neto@inpe.br\">helvecio.neto@inpe.br</a>, <a href=\"mailto:alan.calheiros@inpe.br\">alan.calheiros@inpe.br</a>\n",
    "    <br/><br/>\n",
    "    Last Update: Jun 16, 2024\n",
    "</div>\n",
    "\n",
    "<br/>\n",
    "\n",
    "<div style=\"text-align: justify;  margin-left: 25%; margin-right: 25%;\">\n",
    "<b>Abstract.</b> This Jupyter Notebook shows how to use a pyfortracc for track a global precipitation system using JAXA GSMAP data.:\n",
    "</div>    \n",
    "<br/>\n",
    "<div style=\"text-align: justify;  margin-left: 15%; margin-right: 15%;font-size: 75%; border-style: solid; border-color: #0077b9; border-width: 1px; padding: 5px;\">\n",
    "    <b>In this example, we will use pyfortracc to compute track of precipitating systems over the globe and explore the output data after the algorithm workflow.\n",
    "</b>\n",
    "    <div style=\"margin-left: 10px; margin-right: 10px; margin-top:10px\">\n",
    "      <p> Leal Neto, H.B.; Calheiros, A.J.P.;  pyForTraCC Algorithm. São José dos Campos, INPE, 2024. <a href=\"https://github.com/fortracc-project/pyfortracc\" target=\"_blank\"> Online </a>. </p>\n",
    "    </div>\n",
    "</div>"
   ]
  },
  {
   "cell_type": "markdown",
   "metadata": {},
   "source": [
    "### Schedule\n",
    " [1. Goals and the Data](#goals)<br>\n",
    " [2. Setup Env](#setup)<br>\n",
    " [3. Parameters: Name_list](#namelist)<br>\n",
    " [4. Track Visualization](#visualization)<br>\n",
    " [5. The Tracking Table](#tracktable)<br>\n",
    " [6. Post Processing](#post)<br>"
   ]
  },
  {
   "cell_type": "code",
   "execution_count": null,
   "metadata": {},
   "outputs": [],
   "source": [
    "!pip3 install --upgrade earthengine-api xee> /dev/null 2>&1\n",
    "!pip3 install --upgrade git+https://github.com/fortracc/pyfortracc.git@main#egg=pyfortracc &> /dev/null"
   ]
  },
  {
   "cell_type": "code",
   "execution_count": 1,
   "metadata": {},
   "outputs": [],
   "source": [
    "import ee\n",
    "import xarray as xr\n",
    "\n",
    "import os\n",
    "import glob\n",
    "import pandas as pd\n",
    "import numpy as np\n",
    "import matplotlib.pyplot as plt\n",
    "from concurrent.futures import ProcessPoolExecutor, as_completed\n",
    "from tqdm import tqdm\n",
    "\n",
    "import logging\n",
    "logging.getLogger('googleapiclient.http').setLevel(logging.ERROR)\n",
    "\n",
    "import pyfortracc"
   ]
  },
  {
   "cell_type": "code",
   "execution_count": 2,
   "metadata": {},
   "outputs": [],
   "source": [
    "# Authenticate to the Earth Engine servers. Create an project using link https://console.cloud.google.com/projectcreate\n",
    "ee.Authenticate()\n",
    "ee.Initialize(project=\"project_name\")"
   ]
  },
  {
   "cell_type": "code",
   "execution_count": 3,
   "metadata": {},
   "outputs": [],
   "source": [
    "# Get collection\n",
    "ic = ee.ImageCollection('JAXA/GPM_L3/GSMaP/v8/operational').filterDate('2000-06-01', '2000-06-03').select('hourlyPrecipRate')"
   ]
  },
  {
   "cell_type": "code",
   "execution_count": null,
   "metadata": {},
   "outputs": [],
   "source": [
    "# Transform to xarray\n",
    "global ds\n",
    "ds = xr.open_dataset(ic, engine='ee', crs='EPSG:4326', scale=0.1)"
   ]
  },
  {
   "cell_type": "code",
   "execution_count": null,
   "metadata": {},
   "outputs": [],
   "source": [
    "# Download files\n",
    "def save_single_file(ds, t, output_dir='input'):\n",
    "    timestamp = pd.to_datetime(t.values).strftime('%Y%m%dT%H%M%S')\n",
    "    ds.sel(time=t)[['hourlyPrecipRate']].to_netcdf(f\"{output_dir}/{timestamp}.nc\")\n",
    "\n",
    "def save_times_as_files(ds, output_dir='input'):\n",
    "    os.makedirs(output_dir, exist_ok=True)\n",
    "    with ProcessPoolExecutor() as executor:\n",
    "        futures = [executor.submit(save_single_file, ds, t, output_dir) for t in ds.time]\n",
    "        for _ in tqdm(as_completed(futures), total=len(futures), desc=\"Downloading files\"):\n",
    "            pass\n",
    "# Save files\n",
    "save_times_as_files(ds)"
   ]
  },
  {
   "cell_type": "code",
   "execution_count": 6,
   "metadata": {},
   "outputs": [],
   "source": [
    "# Create a function to read the data\n",
    "def read_function(path):\n",
    "  data = xr.open_dataarray(path).data\n",
    "  return np.rot90(data)"
   ]
  },
  {
   "cell_type": "code",
   "execution_count": 7,
   "metadata": {},
   "outputs": [],
   "source": [
    "# Set name_list\n",
    "name_list = {}\n",
    "name_list['input_path'] = 'input/'\n",
    "name_list['output_path'] = 'output/'\n",
    "name_list['thresholds'] = [1]\n",
    "name_list['min_cluster_size'] = [10]\n",
    "name_list['operator'] = '>='\n",
    "name_list['timestamp_pattern'] = ['%Y%m%dT%H%M%S.nc']\n",
    "name_list['delta_time'] = 60\n",
    "name_list['cluster_method'] = 'ndimage'\n",
    "name_list['lon_min'] = ds.lon.data[0]\n",
    "name_list['lon_max'] = ds.lon.data[-1]\n",
    "name_list['lat_min'] = ds.lat.data[0]\n",
    "name_list['lat_max'] = ds.lat.data[-1]\n",
    "name_list['x_dim'] = ds['hourlyPrecipRate'].shape[1]\n",
    "name_list['y_dim'] = ds['hourlyPrecipRate'].shape[2]"
   ]
  },
  {
   "cell_type": "code",
   "execution_count": null,
   "metadata": {},
   "outputs": [],
   "source": [
    "# Run pyfortracc\n",
    "pyfortracc.track(name_list, read_function, parallel=True)"
   ]
  },
  {
   "cell_type": "code",
   "execution_count": 69,
   "metadata": {},
   "outputs": [],
   "source": [
    "# Get the timestamps\n",
    "files = glob.glob('input/*')\n",
    "timestamps = [pd.to_datetime(file.split('/')[-1].split('.')[0], format='%Y%m%dT%H%M%S') for file in files]\n",
    "timestamps = [str(ts) for ts in sorted(timestamps)]"
   ]
  },
  {
   "cell_type": "code",
   "execution_count": null,
   "metadata": {},
   "outputs": [],
   "source": [
    "# Plot the tracking data for periods of time. Note: If the min and max value is a larger time interval, \n",
    "# the plot will be slower\n",
    "pyfortracc.plot_animation(read_function=read_function, # Read function\n",
    "                          figsize=(15,8), # Figure size\n",
    "                          name_list=name_list, # Name list dictionary\n",
    "                          start_timestamp = timestamps[0], # Start timestamp\n",
    "                          end_timestamp= timestamps[-1], # End timestamp\n",
    "                          info_col_name=False,\n",
    "                          cbar_title='mm/h', # Colorbar title\n",
    "                          trajectory=True, # Plot the trajectory\n",
    "                          smooth_trajectory=True, # Smooth the trajectory\n",
    "                          cmap='turbo', # Colormap\n",
    "                          min_val=1, # Min value\n",
    "                          max_val=25, # Max value\n",
    "                          nan_value=1, # NaN value\n",
    "                          nan_operation=np.less_equal, # NaN operation\n",
    "                          )"
   ]
  },
  {
   "cell_type": "code",
   "execution_count": null,
   "metadata": {},
   "outputs": [],
   "source": [
    "# Plot the tracking data for a specific region (Brazil)\n",
    "sp_lat_min = -30\n",
    "sp_lat_max = 5\n",
    "sp_lon_min = -75\n",
    "sp_lon_max = -35\n",
    "zoom_region = [sp_lon_min, sp_lon_max, sp_lat_min, sp_lat_max]\n",
    "\n",
    "\n",
    "# Plot the tracking data for periods of time. Note: If the min and max value is a larger time interval, \n",
    "# the plot will be slower\n",
    "pyfortracc.plot_animation(read_function=read_function, # Read function\n",
    "                          figsize=(10,8), # Figure size\n",
    "                          name_list=name_list, # Name list dictionary\n",
    "                          start_timestamp = timestamps[0], # Start timestamp\n",
    "                          end_timestamp= timestamps[-1], # End timestamp\n",
    "                          info_col_name=False,\n",
    "                          cbar_title='mm/h', # Colorbar title\n",
    "                          trajectory=True, # Plot the trajectory\n",
    "                          smooth_trajectory=True, # Smooth the trajectory\n",
    "                          cmap='turbo', # Colormap\n",
    "                          min_val=1, # Min value\n",
    "                          max_val=25, # Max value\n",
    "                          nan_value=1, # NaN value\n",
    "                          nan_operation=np.less_equal, # NaN operation\n",
    "                            zoom_region=zoom_region\n",
    "                          )"
   ]
  },
  {
   "cell_type": "code",
   "execution_count": 72,
   "metadata": {},
   "outputs": [],
   "source": [
    "# Read the tracking table\n",
    "tracking_files = sorted(glob.glob(name_list['output_path'] + '/track/trackingtable/*.parquet'))\n",
    "tracking_table = pd.concat(pd.read_parquet(f) for f in tracking_files)"
   ]
  },
  {
   "cell_type": "code",
   "execution_count": null,
   "metadata": {},
   "outputs": [],
   "source": [
    "# Get two maxlifetime clusters from the track_table\n",
    "maxlifetime = 1\n",
    "max_lifetimes = tracking_table.groupby('uid').size().nlargest(maxlifetime).index.values\n",
    "max_clusters = tracking_table[tracking_table['uid'].isin(max_lifetimes)]\n",
    "print('The clusters with the highest lifetime are the uids: {}'.format(max_lifetimes))"
   ]
  },
  {
   "cell_type": "code",
   "execution_count": 103,
   "metadata": {},
   "outputs": [],
   "source": [
    "CLUSTER_UID = max_lifetimes[0]\n",
    "THRESHOLD = name_list['thresholds'][0]\n",
    "filterd_cluster = tracking_table.loc[(tracking_table['uid'] == CLUSTER_UID) & (tracking_table['threshold'] == THRESHOLD)]\n",
    "filterd_cluster.reset_index(drop=True, inplace=True)\n",
    "filterd_cluster.set_index('timestamp', inplace=True)"
   ]
  },
  {
   "cell_type": "code",
   "execution_count": null,
   "metadata": {},
   "outputs": [],
   "source": [
    "# Plot the tracking data for periods of time. Note: If the min and max value is a larger time interval, \n",
    "# the plot will be slower\n",
    "pyfortracc.plot_animation(read_function=read_function, # Read function\n",
    "                          figsize=(15,8), # Figure size\n",
    "                          name_list=name_list, # Name list dictionary\n",
    "                          start_timestamp = filterd_cluster.index.min().strftime('%Y-%m-%d %H:%M:%S'), # Start timestamp\n",
    "                          end_timestamp= filterd_cluster.index.max().strftime('%Y-%m-%d %H:%M:%S'),\n",
    "                          info_col_name=False,\n",
    "                          cbar_title='mm/h', # Colorbar title\n",
    "                          trajectory=True, # Plot the trajectory\n",
    "                          smooth_trajectory=True, # Smooth the trajectory\n",
    "                          cmap='turbo', # Colormap\n",
    "                          min_val=1, # Min value\n",
    "                          max_val=25, # Max value\n",
    "                          nan_value=1, # NaN value\n",
    "                          nan_operation=np.less_equal, # NaN operation\n",
    "                          uid_list=[CLUSTER_UID]\n",
    "                          )"
   ]
  },
  {
   "cell_type": "code",
   "execution_count": null,
   "metadata": {},
   "outputs": [],
   "source": [
    "# Código anterior\n",
    "fig, ax1 = plt.subplots(1, 1, figsize=(15, 6))\n",
    "ax2 = ax1.twinx()\n",
    "ax3 = ax2.twiny()\n",
    "\n",
    "# Plot dos dados\n",
    "f1 = filterd_cluster['size'].plot(ax=ax1, marker='o', linestyle='dashed', color='C1', zorder=5, linewidth=3, markersize=10)\n",
    "f2 = filterd_cluster['max'].plot(ax=ax2, marker='o', linestyle='dotted', color='C0', zorder=1, linewidth=2, markersize=10)\n",
    "# Legendas\n",
    "lines, labels = ax1.get_legend_handles_labels()\n",
    "lines2, labels2 = ax2.get_legend_handles_labels()\n",
    "labels = ['Size (pixels)']\n",
    "labels2 = ['Max Precipitation(mm/h)']\n",
    "ax2.legend(lines + lines2, labels + labels2, loc=0)\n",
    "ax1.set_ylabel('Size (pixels)')\n",
    "ax2.set_ylabel('Max Precipitation(mm/h)')\n",
    "ax3.set_xticks(range(0, int(filterd_cluster.lifetime.max()) + 1, 60))\n",
    "ax3.tick_params(axis='x', which='major', labelsize=8, rotation=45)\n",
    "# Inserir os labels no eixo x principal\n",
    "ax1.set_xticks(filterd_cluster.index)\n",
    "ax1.set_xticklabels([ts.strftime('%H:%M') for ts in filterd_cluster.index], rotation=45, ha='right', fontsize=8)\n",
    "# Status acima do gráfico\n",
    "for i in range(len(filterd_cluster)):\n",
    "    ax3.text(filterd_cluster.lifetime[i] - 20, 33.5, filterd_cluster['status'][i], fontsize=8, fontweight='bold')\n",
    "# Eixo Status\n",
    "ax1.set_xlabel('Tracking Start at ' + filterd_cluster.index.min().strftime('%Y-%m-%d %H:%M'), labelpad=12, fontsize=12, fontweight='bold')\n",
    "ax3.set_xlabel('Status and Lifetime (hours)', labelpad=16, fontsize=16, fontweight='bold')\n",
    "ax3.set_xlim(filterd_cluster.lifetime.min(), filterd_cluster.lifetime.max())\n",
    "ax3.grid(True, which='both', axis='x', linestyle='--', alpha=0.5)\n",
    "ax1.grid(True, which='both', axis='y', linestyle='--', alpha=0.2)\n",
    "plt.tight_layout()\n",
    "plt.show()\n"
   ]
  }
 ],
 "metadata": {
  "kernelspec": {
   "display_name": "pyfortracc",
   "language": "python",
   "name": "python3"
  },
  "language_info": {
   "codemirror_mode": {
    "name": "ipython",
    "version": 3
   },
   "file_extension": ".py",
   "mimetype": "text/x-python",
   "name": "python",
   "nbconvert_exporter": "python",
   "pygments_lexer": "ipython3",
   "version": "3.12.2"
  }
 },
 "nbformat": 4,
 "nbformat_minor": 2
}
