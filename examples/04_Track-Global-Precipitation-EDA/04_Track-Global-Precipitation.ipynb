{
 "cells": [
  {
   "cell_type": "markdown",
   "metadata": {},
   "source": [
    "<div align=\"center\"; span style=\"color:#336699\"><b><h2> Track Global Precipitation JAXA GSMAP </h2></b></div>\n",
    "<hr style=\"border:2px solid #0077b9;\">\n",
    "<br/>\n",
    "<div style=\"text-align: center;font-size: 90%;\">\n",
    "    Helvécio B. Leal Neto, <sup><a href=\"https://orcid.org/0000-0002-7526-2094\"><i class=\"fab fa-lg fa-orcid\" style=\"color: #a6ce39\"></i></a></sup>\n",
    "    Alan J. P. Calheiros<sup><a href=\"https://orcid.org/0000-0002-7526-2094\"><i class=\"fab fa-lg fa-orcid\" style=\"color: #a6ce39\"></i></a></sup>\n",
    "    <br/><br/>\n",
    "    National Institute for Space Research (INPE)\n",
    "    <br/>\n",
    "    Avenida dos Astronautas, 1758, Jardim da Granja, São José dos Campos, SP 12227-010, Brazil\n",
    "    <br/><br/>\n",
    "    Contact: <a href=\"mailto:helvecio.neto@inpe.br\">helvecio.neto@inpe.br</a>, <a href=\"mailto:alan.calheiros@inpe.br\">alan.calheiros@inpe.br</a>\n",
    "    <br/><br/>\n",
    "    Last Update: Jun 16, 2024\n",
    "</div>\n",
    "\n",
    "<br/>\n",
    "\n",
    "<div style=\"text-align: justify;  margin-left: 25%; margin-right: 25%;\">\n",
    "<b>Abstract.</b> This Jupyter Notebook shows how to use a pyfortracc for track a global precipitation system using JAXA GSMAP data.:\n",
    "</div>    \n",
    "<br/>\n",
    "<div style=\"text-align: justify;  margin-left: 15%; margin-right: 15%;font-size: 75%; border-style: solid; border-color: #0077b9; border-width: 1px; padding: 5px;\">\n",
    "    <b>In this example, we will use pyfortracc to compute track of precipitating systems over the globe and explore the output data after the algorithm workflow.\n",
    "</b>\n",
    "    <div style=\"margin-left: 10px; margin-right: 10px; margin-top:10px\">\n",
    "      <p> Leal Neto, H.B.; Calheiros, A.J.P.;  pyForTraCC Algorithm. São José dos Campos, INPE, 2024. <a href=\"https://github.com/fortracc-project/pyfortracc\" target=\"_blank\"> Online </a>. </p>\n",
    "    </div>\n",
    "</div>"
   ]
  },
  {
   "cell_type": "markdown",
   "metadata": {},
   "source": [
    "### Schedule\n",
    " [1. Goals and the Data](#goals)<br>\n",
    " [2. Setup Env](#setup)<br>\n",
    " [3. Parameters: Name_list](#namelist)<br>\n",
    " [4. Track Visualization](#visualization)<br>\n",
    " [5. The Tracking Table](#tracktable)<br>\n",
    " [6. Post Processing](#post)<br>"
   ]
  },
  {
   "cell_type": "code",
   "execution_count": null,
   "metadata": {},
   "outputs": [],
   "source": [
    "user = 'rainmap'\n",
    "password = 'P@$$w0rd'\n",
    "source = '/standard/v8/netcdf/'\n",
    "start_date = '2002-08-15'\n",
    "end_date = '2002-08-16'\n",
    "\n",
    "!python download_gsmap.py $start_date $end_date $source $user $password "
   ]
  },
  {
   "cell_type": "code",
   "execution_count": 2,
   "metadata": {},
   "outputs": [],
   "source": [
    "%reload_ext autoreload\n",
    "%autoreload 2\n",
    "import sys\n",
    "sys.path.append('../../')"
   ]
  },
  {
   "cell_type": "code",
   "execution_count": 3,
   "metadata": {},
   "outputs": [],
   "source": [
    "import netCDF4 as nc\n",
    "def read_function(path):\n",
    "    data = nc.Dataset(path)\n",
    "    variable = 'hourlyPrecipRate'\n",
    "    data = data[variable][:].data[0]\n",
    "    return data"
   ]
  },
  {
   "cell_type": "code",
   "execution_count": 7,
   "metadata": {},
   "outputs": [],
   "source": [
    "import pyfortracc"
   ]
  },
  {
   "cell_type": "code",
   "execution_count": 8,
   "metadata": {},
   "outputs": [],
   "source": [
    "name_list = {}\n",
    "name_list['input_path'] = 'netcdf/'\n",
    "name_list['output_path'] = 'output/'\n",
    "name_list['thresholds'] = [0.1,1,5]\n",
    "name_list['min_cluster_size'] = [10,5,3]\n",
    "name_list['operator'] = '>='\n",
    "name_list['timestamp_pattern'] = ['gsmap_mvk.%Y%m%d.%H%M.v8.0000.0.nc',\n",
    "\t\t\t\t\t\t\t\t  'gsmap_mvk.%Y%m%d.%H%M.v8.0000.1.nc']\n",
    "name_list['delta_time'] = 60\n",
    "name_list['cluster_method'] = 'ndimage'\n",
    "name_list['edges'] = True\n",
    "name_list['spl_correction'] = True\n",
    "name_list['mrg_correction'] = True\n",
    "name_list['inc_correction'] = True\n",
    "name_list['opt_correction'] = True\n",
    "name_list['validation'] = True\n",
    "name_list['validation_scores'] = True\n",
    "name_list['lon_min'] = -180\n",
    "name_list['lon_max'] = 180\n",
    "name_list['lat_min'] = -90\n",
    "name_list['lat_max'] = 90\n",
    "name_list['x_dim'] = 3600\n",
    "name_list['y_dim'] = 1800\n",
    "name_list['n_jobs'] = 10"
   ]
  },
  {
   "cell_type": "code",
   "execution_count": null,
   "metadata": {},
   "outputs": [],
   "source": [
    "# Track the clusters\n",
    "pyfortracc.track(name_list, read_function, parallel=True)"
   ]
  },
  {
   "cell_type": "code",
   "execution_count": null,
   "metadata": {},
   "outputs": [],
   "source": [
    "# Post processing\n",
    "pyfortracc.post_processing.compute_duration(name_list, parallel=True)"
   ]
  },
  {
   "cell_type": "code",
   "execution_count": 8,
   "metadata": {},
   "outputs": [],
   "source": [
    "import netCDF4 as nc\n",
    "def plot_function(path):\n",
    "    data = nc.Dataset(path)\n",
    "    variable = 'hourlyPrecipRate'\n",
    "    data = data[variable][:].data[0]\n",
    "    data[data < 0] = 0\n",
    "    data[data > 25] = 25\n",
    "    return data"
   ]
  },
  {
   "cell_type": "code",
   "execution_count": null,
   "metadata": {},
   "outputs": [],
   "source": [
    "pyfortracc.plot(name_list, plot_function, '2002-08-15 12:00:00', title='GSMap Hourly Precipitation',\n",
    "                figsize=(12, 8), scalebar=False, boundary=False, vector=False,  trajectory=False,\n",
    "                cmap='turbo', cbar_title='mm/h', cbar_extend='max', bounds_info=True,\n",
    "                bound_linewidth=0.1, zoom_region=[-180, 180, -90, 91])"
   ]
  },
  {
   "cell_type": "code",
   "execution_count": null,
   "metadata": {},
   "outputs": [],
   "source": [
    "pyfortracc.plot(name_list, plot_function, '2002-08-15 07:00:00', title='Tracked PS UID',\n",
    "                figsize=(12, 8), boundary=True, bound_linewidth=2, centroid=True, centr_size=30,centr_color='red',\n",
    "                vector=False,  trajectory=True, traj_color='g', traj_linewidth=4, info=True, info_col_name=True,\n",
    "                background='default', info_cols=['uid','status','lifetime','size','max','duration'],\n",
    "                grid_deg=2, threshold_list=[0.1], cbar=False, ticks_fontsize=12, title_fontsize=18,\n",
    "                uid_list=[8962], x_scale=-0.9, y_scale=0.8, box_fontsize=16,\n",
    "                cmap='turbo', cbar_title='mm/h', bound_color='red', cbar_extend='max',\n",
    "                zoom_region=[-60, -46, -32, -23])"
   ]
  },
  {
   "cell_type": "code",
   "execution_count": null,
   "metadata": {},
   "outputs": [],
   "source": [
    "pyfortracc.plot(name_list, plot_function, '2002-08-15 18:00:00', title='Tracked PS 8962',\n",
    "                figsize=(12, 8), boundary=True, bound_linewidth=2, centroid=True, centr_size=30,centr_color='red',\n",
    "                vector=False,  trajectory=True, traj_color='g', traj_linewidth=4, info=True, info_col_name=True,\n",
    "                background='default', info_cols=['uid','status','lifetime','size','max','duration'],\n",
    "                grid_deg=2, threshold_list=[0.1], cbar=False, ticks_fontsize=12, title_fontsize=18,\n",
    "                uid_list=[8962], x_scale=-0.4, y_scale=1.3, box_fontsize=16,\n",
    "                cmap='turbo', cbar_title='mm/h', bound_color='red', cbar_extend='max',\n",
    "                zoom_region=[-60, -46, -32, -23])"
   ]
  },
  {
   "cell_type": "code",
   "execution_count": null,
   "metadata": {},
   "outputs": [],
   "source": [
    "pyfortracc.plot(name_list, plot_function, '2002-08-16 06:00:00', title='Tracked PS 8962',\n",
    "                figsize=(12, 8), boundary=True, bound_linewidth=2, centroid=True, centr_size=30,centr_color='red',\n",
    "                vector=False,  trajectory=True, traj_color='g', traj_linewidth=4, info=True, info_col_name=True,\n",
    "                background='default', info_cols=['uid','status','lifetime','size','max','duration'],\n",
    "                grid_deg=2, threshold_list=[0.1], cbar=False, ticks_fontsize=12, title_fontsize=18,\n",
    "                uid_list=[8962], x_scale=-0.9, y_scale=0.8, box_fontsize=16,\n",
    "                cmap='turbo', cbar_title='mm/h', bound_color='red', cbar_extend='max',\n",
    "                zoom_region=[-60, -46, -32, -23])"
   ]
  },
  {
   "cell_type": "code",
   "execution_count": null,
   "metadata": {},
   "outputs": [],
   "source": [
    "pyfortracc.plot(name_list, plot_function, '2002-08-16 15:00:00', title='Tracked PS 8962',\n",
    "                figsize=(12, 8), boundary=True, bound_linewidth=2, centroid=True, centr_size=30,centr_color='red',\n",
    "                vector=False,  trajectory=True, traj_color='g', traj_linewidth=4, info=True, info_col_name=True,\n",
    "                background='default', info_cols=['uid','status','lifetime','size','max','duration'],\n",
    "                grid_deg=2, threshold_list=[0.1], cbar=False,\n",
    "                uid_list=[8962], x_scale=-0.9, y_scale=0.8, box_fontsize=12,\n",
    "                cmap='turbo', cbar_title='mm/h', bound_color='red', cbar_extend='max',\n",
    "                zoom_region=[-60, -46, -32, -23])"
   ]
  },
  {
   "cell_type": "code",
   "execution_count": 27,
   "metadata": {},
   "outputs": [],
   "source": [
    "import pandas as pd\n",
    "import glob\n",
    "import matplotlib.pyplot as plt"
   ]
  },
  {
   "cell_type": "code",
   "execution_count": 25,
   "metadata": {},
   "outputs": [],
   "source": [
    "tracking_files = sorted(glob.glob(name_list['output_path'] + '/track/trackingtable/*.parquet'))\n",
    "tracking_table = pd.concat(pd.read_parquet(f) for f in tracking_files)"
   ]
  },
  {
   "cell_type": "code",
   "execution_count": null,
   "metadata": {},
   "outputs": [],
   "source": [
    "CLUSTER_UID = 8962\n",
    "THRESHOLD = 0.1\n",
    "filterd_cluster = tracking_table.loc[(tracking_table['uid'] == CLUSTER_UID) & (tracking_table['threshold'] == THRESHOLD)]\n",
    "filterd_cluster.reset_index(drop=True, inplace=True)\n",
    "filterd_cluster.set_index('timestamp', inplace=True)\n",
    "# Convert size column to km^2\n",
    "filterd_cluster['size'] = filterd_cluster['size'] * 10 * 10\n",
    "filterd_cluster.head(3)"
   ]
  },
  {
   "cell_type": "code",
   "execution_count": null,
   "metadata": {},
   "outputs": [],
   "source": [
    "# Código anterior\n",
    "fig, ax1 = plt.subplots(1, 1, figsize=(15, 6))\n",
    "ax2 = ax1.twinx()\n",
    "ax3 = ax2.twiny()\n",
    "\n",
    "# Plot dos dados\n",
    "f1 = filterd_cluster['size'].plot(ax=ax1, marker='o', linestyle='dashed', color='C1', zorder=5, linewidth=3, markersize=10)\n",
    "f2 = filterd_cluster['max'].plot(ax=ax2, marker='o', linestyle='dotted', color='C0', zorder=1, linewidth=2, markersize=10)\n",
    "# Legendas\n",
    "lines, labels = ax1.get_legend_handles_labels()\n",
    "lines2, labels2 = ax2.get_legend_handles_labels()\n",
    "labels = ['Size (km²)']\n",
    "labels2 = ['Max Precipitation(mm/h)']\n",
    "ax2.legend(lines + lines2, labels + labels2, loc=0)\n",
    "# Eixos\n",
    "ax1.set_ylabel('Size (km²)')\n",
    "ax2.set_ylabel('Max Precipitation(mm/h)')\n",
    "ax3.set_xticks(range(0, int(filterd_cluster.lifetime.max()) + 1, 60))\n",
    "ax3.tick_params(axis='x', which='major', labelsize=10)\n",
    "# Inserir os labels no eixo x principal\n",
    "ax1.set_xticks(filterd_cluster.index)\n",
    "ax1.set_xticklabels([ts.strftime('%H:%M') for ts in filterd_cluster.index], rotation=45, ha='right', fontsize=14)\n",
    "# Status acima do gráfico\n",
    "for i in range(len(filterd_cluster)):\n",
    "    ax3.text(filterd_cluster.lifetime[i] - 20, 33.5, filterd_cluster['status'][i], fontsize=11, fontweight='bold')\n",
    "# Eixo Status\n",
    "ax1.set_xlabel('Tracking Start at ' + filterd_cluster.index.min().strftime('%Y-%m-%d %H:%M'), labelpad=12, fontsize=16, fontweight='bold')\n",
    "ax3.set_xlabel('Status and Lifetime (hours)', labelpad=16, fontsize=16, fontweight='bold')\n",
    "ax3.set_xlim(filterd_cluster.lifetime.min(), filterd_cluster.lifetime.max())\n",
    "ax3.grid(True, which='both', axis='x', linestyle='--', alpha=0.5)\n",
    "ax1.grid(True, which='both', axis='y', linestyle='--', alpha=0.2)\n",
    "ax3.axvspan(0, 30, color='green', alpha=0.2)\n",
    "ax3.axvspan(630, 690, color='C1', alpha=0.2)\n",
    "ax3.axvspan(630, 690, color='red', alpha=0.2)\n",
    "ax3.axvspan(1350, 1400, color='C0', alpha=0.2)\n",
    "ax3.axvspan(1900, 1950, color='grey', alpha=0.2)\n",
    "plt.tight_layout()\n",
    "plt.show()\n"
   ]
  },
  {
   "cell_type": "code",
   "execution_count": null,
   "metadata": {},
   "outputs": [],
   "source": [
    "tracking_table.loc[(tracking_table['uid'] == 8962) & (tracking_table['threshold'] == 0.1)]"
   ]
  },
  {
   "cell_type": "code",
   "execution_count": 1,
   "metadata": {},
   "outputs": [],
   "source": [
    "name_list = {}\n",
    "name_list['input_path'] = 'netcdf/'\n",
    "name_list['output_path'] = 'output/'\n",
    "name_list['thresholds'] = [0.1,1,5]\n",
    "name_list['min_cluster_size'] = [10,5,3]\n",
    "name_list['operator'] = '>='\n",
    "name_list['timestamp_pattern'] = ['gsmap_mvk.%Y%m%d.%H%M.v8.0000.0.nc',\n",
    "\t\t\t\t\t\t\t\t  'gsmap_mvk.%Y%m%d.%H%M.v8.0000.1.nc']\n",
    "name_list['delta_time'] = 60\n",
    "name_list['cluster_method'] = 'ndimage'\n",
    "name_list['edges'] = True\n",
    "name_list['spl_correction'] = True\n",
    "name_list['mrg_correction'] = True\n",
    "name_list['inc_correction'] = True\n",
    "name_list['opt_correction'] = True\n",
    "name_list['elp_correction'] = True\n",
    "name_list['validation'] = True\n",
    "name_list['validation_scores'] = True\n",
    "name_list['lon_min'] = -180\n",
    "name_list['lon_max'] = 180\n",
    "name_list['lat_min'] = -90\n",
    "name_list['lat_max'] = 90\n",
    "name_list['x_dim'] = 3600\n",
    "name_list['y_dim'] = 1800\n",
    "name_list['n_jobs'] = 12"
   ]
  },
  {
   "cell_type": "code",
   "execution_count": 2,
   "metadata": {},
   "outputs": [],
   "source": [
    "%reload_ext autoreload\n",
    "%autoreload 2\n",
    "import sys\n",
    "sys.path.append('../../')\n",
    "import pyfortracc"
   ]
  },
  {
   "cell_type": "code",
   "execution_count": null,
   "metadata": {},
   "outputs": [],
   "source": [
    "ds = pyfortracc.post_processing.spatial_info(name_list, threshold_level=0,\n",
    "                                             min_duration=180, min_distance=50, \n",
    "                                             parallel=True, frequency='1M',\n",
    "                                        var_cols=['status','lifetime','size',\n",
    "                                                  'u_', 'v_','u_opt','u_noc','far','far_'])"
   ]
  },
  {
   "cell_type": "code",
   "execution_count": null,
   "metadata": {},
   "outputs": [],
   "source": [
    "ds"
   ]
  },
  {
   "cell_type": "code",
   "execution_count": null,
   "metadata": {},
   "outputs": [],
   "source": [
    "# In tste columns are datetime objects, i need resample the data and add to single row\n",
    "tste.T.apply(lambda x: x.resample('3M')).T"
   ]
  },
  {
   "cell_type": "code",
   "execution_count": 35,
   "metadata": {},
   "outputs": [],
   "source": [
    "import pandas as pd"
   ]
  },
  {
   "cell_type": "code",
   "execution_count": null,
   "metadata": {},
   "outputs": [],
   "source": [
    "pyfortracc.spatial_conversions(name_list, boundary=False, \n",
    "                               trajectory=False, cluster=True, \n",
    "                               vel_unit='km/h', driver='GeoJSON')"
   ]
  }
 ],
 "metadata": {
  "kernelspec": {
   "display_name": "pyfortracc",
   "language": "python",
   "name": "python3"
  },
  "language_info": {
   "codemirror_mode": {
    "name": "ipython",
    "version": 3
   },
   "file_extension": ".py",
   "mimetype": "text/x-python",
   "name": "python",
   "nbconvert_exporter": "python",
   "pygments_lexer": "ipython3",
   "version": "3.12.2"
  }
 },
 "nbformat": 4,
 "nbformat_minor": 2
}
