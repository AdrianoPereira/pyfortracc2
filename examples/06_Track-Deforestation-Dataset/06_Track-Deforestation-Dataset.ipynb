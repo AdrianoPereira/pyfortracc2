{
 "cells": [
  {
   "cell_type": "markdown",
   "metadata": {},
   "source": [
    "<div align=\"center\"; span style=\"color:#336699\"><b><h2> Track Deforestation Dataset </h2></b></div>\n",
    "<hr style=\"border:2px solid #0077b9;\">\n",
    "<br/>\n",
    "<div style=\"text-align: center;font-size: 90%;\">\n",
    "    Helvécio B. Leal Neto, <sup><a href=\"https://orcid.org/0000-0002-7526-2094\"><i class=\"fab fa-lg fa-orcid\" style=\"color: #a6ce39\"></i></a></sup>\n",
    "    Alan J. P. Calheiros<sup><a href=\"https://orcid.org/0000-0002-7526-2094\"><i class=\"fab fa-lg fa-orcid\" style=\"color: #a6ce39\"></i></a></sup>\n",
    "    <br/><br/>\n",
    "    National Institute for Space Research (INPE)\n",
    "    <br/>\n",
    "    Avenida dos Astronautas, 1758, Jardim da Granja, São José dos Campos, SP 12227-010, Brazil\n",
    "    <br/><br/>\n",
    "    Contact: <a href=\"mailto:helvecio.neto@inpe.br\">helvecio.neto@inpe.br</a>, <a href=\"mailto:alan.calheiros@inpe.br\">alan.calheiros@inpe.br</a>\n",
    "    <br/><br/>\n",
    "    Last Update: Apr 17, 2024\n",
    "</div>\n",
    "\n",
    "<br/>\n",
    "\n",
    "<div style=\"text-align: justify;  margin-left: 25%; margin-right: 25%;\">\n",
    "<b>Abstract.</b> This Jupyter Notebook shows how to use a fortracc for track a Deforestation Dataset.\n",
    "</div>    \n",
    "<br/>\n",
    "<div style=\"text-align: justify;  margin-left: 15%; margin-right: 15%;font-size: 75%; border-style: solid; border-color: #0077b9; border-width: 1px; padding: 5px;\">\n",
    "    <b>In this example, we will use fortracc to compute track of Deforescation Clusters.\n",
    "</b>\n",
    "    <div style=\"margin-left: 10px; margin-right: 10px; margin-top:10px\">\n",
    "      <p> Leal Neto, H.B.; Calheiros, A.J.P.;  Fortracc Algorithm. São José dos Campos, INPE, 2024. <a href=\"https://github.com/fortracc-project/\" target=\"_blank\"> Online </a>. </p>\n",
    "    </div>\n",
    "</div>"
   ]
  },
  {
   "cell_type": "code",
   "execution_count": 14,
   "metadata": {},
   "outputs": [],
   "source": [
    "# !pip install --upgrade git+https://github.com/fortracc-project/pyfortracc.git@main#egg=pyfortracc"
   ]
  },
  {
   "cell_type": "code",
   "execution_count": null,
   "metadata": {},
   "outputs": [],
   "source": [
    "# # If you want run the library from the source code, uncomment the following lines\n",
    "import sys\n",
    "library_path = '../../'\n",
    "sys.path.append(library_path)\n",
    "%load_ext autoreload\n",
    "%autoreload 2"
   ]
  },
  {
   "cell_type": "code",
   "execution_count": null,
   "metadata": {},
   "outputs": [],
   "source": [
    "import pyfortracc"
   ]
  },
  {
   "cell_type": "code",
   "execution_count": null,
   "metadata": {},
   "outputs": [],
   "source": [
    "# Run the following command to install the GDAL library\n",
    "# !sudo apt install gdal-bin -y"
   ]
  },
  {
   "cell_type": "code",
   "execution_count": null,
   "metadata": {},
   "outputs": [],
   "source": [
    "import os\n",
    "import pathlib\n",
    "import threading\n",
    "pathlib.Path('input').mkdir(parents=True, exist_ok=True)\n",
    "url = 'https://storage.googleapis.com/mapbiomas-public/initiatives/brasil/collection_8/lclu/coverage/brasil_coverage_{}.tif'\n",
    "box = '-55 -3.54 -54 -4.46' # lonmin latmax lonmax latmin\n",
    "def download(command):\n",
    "    os.system(command)\n",
    "for year in range(1985, 2023):\n",
    "    url2 = url.format(year)\n",
    "    gdal_command = 'gdal_translate /vsicurl/'+url2+' -b 1 -projwin ' + box + ' -of GTiff -outsize 1024 1024 input/'+str(year)+'.tif'\n",
    "    threading.Thread(target=download, args=(gdal_command,)).start()"
   ]
  },
  {
   "cell_type": "code",
   "execution_count": null,
   "metadata": {},
   "outputs": [],
   "source": [
    "import rasterio\n",
    "import numpy as np\n",
    "def read_function(path):\n",
    "\twith rasterio.open(path) as src:\n",
    "\t\tdata = src.read(1)[::-1]\n",
    "\t# Natural mask based on class\n",
    "\t# https://brasil.mapbiomas.org/wp-content/uploads/sites/4/2023/08/EN__Codigos_da_legenda_Colecao_7.pdf\n",
    "\tnatural_mask = [1,3,4,5,49,10,11,12,32,29,50,13]\n",
    "\tantropogenic_mask = [14,15,18,19,39,20,40,62,41,36,46,47,48,9,21]\n",
    "\t# Apply natural mask, everything else is antropogenic\n",
    "\tdata = np.where(np.isin(data, antropogenic_mask), 1, 0)\n",
    "\treturn data"
   ]
  },
  {
   "cell_type": "code",
   "execution_count": null,
   "metadata": {},
   "outputs": [],
   "source": [
    "name_list = {} # Set name_list dict\n",
    "name_list['input_path'] = 'input/'\n",
    "name_list['output_path'] = 'output/'\n",
    "name_list['thresholds'] = [1]\n",
    "name_list['min_cluster_size'] = [5]\n",
    "name_list['operator'] = '=='\n",
    "name_list['timestamp_pattern'] = '%Y.tif'\n",
    "name_list['delta_time'] = 525960 # Minutes in a year\n",
    "name_list['delta_tolerance'] = 60 * 24# Minutes in a day\n",
    "name_list['min_overlap'] = 10\n",
    "name_list['cluster_method'] = 'ndimage'\n",
    "name_list['opt_correction'] = True\n",
    "name_list['validation'] = True"
   ]
  },
  {
   "cell_type": "code",
   "execution_count": null,
   "metadata": {},
   "outputs": [],
   "source": [
    "pyfortracc.track(name_list, read_function, parallel=True)"
   ]
  },
  {
   "cell_type": "code",
   "execution_count": null,
   "metadata": {},
   "outputs": [],
   "source": [
    "name_list['x_dim'] = 1024\n",
    "name_list['y_dim'] = 1024\n",
    "name_list['lon_min'] = -55.0\n",
    "name_list['lon_max'] = -54.0\n",
    "name_list['lat_min'] = -4.46\n",
    "name_list['lat_max'] = -3.54"
   ]
  },
  {
   "cell_type": "code",
   "execution_count": null,
   "metadata": {},
   "outputs": [],
   "source": [
    "pyfortracc.plot_animation(name_list, read_function, start_stamp='1985', end_stamp='2022', trajectory=False)"
   ]
  },
  {
   "cell_type": "code",
   "execution_count": null,
   "metadata": {},
   "outputs": [],
   "source": [
    "pyfortracc.plot_animation(name_list, read_function, start_stamp='1985', end_stamp='2022', \n",
    "                        zoom_region=[-54.6, -54.5, -3.8, -3.9], \n",
    "                        x_scale=0.001, y_scale=0.001, info=True, info_cols=['uid','status'],\n",
    "                         trajectory=False, vector=True,  vector_color='white', vector_scale=1)"
   ]
  },
  {
   "cell_type": "code",
   "execution_count": null,
   "metadata": {},
   "outputs": [],
   "source": [
    "import pandas as pd\n",
    "import glob\n",
    "tracking_files = sorted(glob.glob(name_list['output_path'] + '/track/trackingtable/*.parquet'))\n",
    "tracking_table = pd.concat(pd.read_parquet(f) for f in tracking_files)\n",
    "display(tracking_table.head())\n",
    "\n",
    "# Apply size of pixels, each pixel is 100m x 100m\n",
    "tracking_table['area'] = tracking_table['size'] * 100"
   ]
  },
  {
   "cell_type": "code",
   "execution_count": null,
   "metadata": {},
   "outputs": [],
   "source": [
    "lifetime = tracking_table.groupby('uid')['lifetime'].max().to_frame()\n",
    "lifetime = lifetime.sort_values(by='lifetime', ascending=False)\n",
    "lifetime.head(5)"
   ]
  },
  {
   "cell_type": "code",
   "execution_count": null,
   "metadata": {},
   "outputs": [],
   "source": [
    "uid_list = lifetime.index[0:10].tolist()\n",
    "tracking_table.loc[tracking_table['uid'].isin(uid_list)].groupby('uid')['area'].plot(legend=True, \n",
    "                                                                                     title='Area of the 10 largest clusters',\n",
    "                                                                                     xlabel='Timestamp', \n",
    "                                                                                     ylabel='Area (m²)');"
   ]
  }
 ],
 "metadata": {
  "kernelspec": {
   "display_name": "fortracc",
   "language": "python",
   "name": "python3"
  },
  "language_info": {
   "codemirror_mode": {
    "name": "ipython",
    "version": 3
   },
   "file_extension": ".py",
   "mimetype": "text/x-python",
   "name": "python",
   "nbconvert_exporter": "python",
   "pygments_lexer": "ipython3",
   "version": "3.12.2"
  }
 },
 "nbformat": 4,
 "nbformat_minor": 2
}
